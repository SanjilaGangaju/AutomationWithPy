{
 "cells": [
  {
   "cell_type": "code",
   "execution_count": 15,
   "id": "927ed436-f5e4-48cd-9e02-b6243057b288",
   "metadata": {},
   "outputs": [
    {
     "name": "stdin",
     "output_type": "stream",
     "text": [
      "Enter the filename of the Excel workbook to process:  transaction_data.xlsx\n"
     ]
    }
   ],
   "source": [
    "import openpyxl as xl\n",
    "def process_workbook(filename):\n",
    "   wb=xl.load_workbook(\"transaction_data.xlsx\")\n",
    "   sheet=wb['Sheet1']\n",
    "   for row in range(2,sheet.max_row+1):\n",
    "    cell=sheet.cell(row,3)\n",
    "    corrected_price=float(cell.value)*0.9\n",
    "    corrected_price_column=sheet.cell(row,4)\n",
    "    corrected_price_column.value=corrected_price\n",
    "   wb.save('python_'+filename)\n",
    "filename = input(\"Enter the filename of the Excel workbook to process: \")\n",
    "process_workbook(filename)\n"
   ]
  },
  {
   "cell_type": "code",
   "execution_count": 2,
   "id": "ea360d91-3343-451a-9d50-dfe48bf3176d",
   "metadata": {},
   "outputs": [],
   "source": [
    "\n"
   ]
  },
  {
   "cell_type": "code",
   "execution_count": 5,
   "id": "bc07e3b6-44f3-466f-9a1d-c2d8e3d994ed",
   "metadata": {},
   "outputs": [],
   "source": []
  },
  {
   "cell_type": "code",
   "execution_count": 10,
   "id": "d52b4992-d177-4f11-9e22-e23c7a1bb3f8",
   "metadata": {},
   "outputs": [],
   "source": []
  },
  {
   "cell_type": "code",
   "execution_count": 11,
   "id": "ac6202f8-af45-4efa-8089-5873a69bb2e7",
   "metadata": {},
   "outputs": [],
   "source": []
  },
  {
   "cell_type": "code",
   "execution_count": null,
   "id": "d6394838-bb8b-4bdb-bcea-292317776be2",
   "metadata": {},
   "outputs": [],
   "source": []
  }
 ],
 "metadata": {
  "kernelspec": {
   "display_name": "Python 3 (ipykernel)",
   "language": "python",
   "name": "python3"
  },
  "language_info": {
   "codemirror_mode": {
    "name": "ipython",
    "version": 3
   },
   "file_extension": ".py",
   "mimetype": "text/x-python",
   "name": "python",
   "nbconvert_exporter": "python",
   "pygments_lexer": "ipython3",
   "version": "3.11.7"
  }
 },
 "nbformat": 4,
 "nbformat_minor": 5
}
